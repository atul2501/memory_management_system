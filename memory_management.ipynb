{
 "cells": [
  {
   "cell_type": "code",
   "execution_count": 5,
   "id": "e9fcaf75",
   "metadata": {},
   "outputs": [
    {
     "name": "stdout",
     "output_type": "stream",
     "text": [
      "2\n"
     ]
    }
   ],
   "source": [
    "#memory_management in python \n",
    "#refrence counting\n",
    "import sys\n",
    "\n",
    "a=[]\n",
    "print(sys.getrefcount(a))\n",
    "\n",
    "#2 is (one refrence from 'a' and one from getrefcount())"
   ]
  },
  {
   "cell_type": "code",
   "execution_count": 7,
   "id": "14a4c752",
   "metadata": {},
   "outputs": [
    {
     "name": "stdout",
     "output_type": "stream",
     "text": [
      "3\n"
     ]
    }
   ],
   "source": [
    "b=a\n",
    "print(sys.getrefcount(b))\n",
    "#3 is (one come from a (upper) and one from b and one from getrefcount())"
   ]
  },
  {
   "cell_type": "code",
   "execution_count": null,
   "id": "55477a72",
   "metadata": {},
   "outputs": [],
   "source": [
    "del b #delete b "
   ]
  },
  {
   "cell_type": "code",
   "execution_count": 11,
   "id": "5123fc3a",
   "metadata": {},
   "outputs": [
    {
     "name": "stdout",
     "output_type": "stream",
     "text": [
      "2\n"
     ]
    }
   ],
   "source": [
    "print(sys.getrefcount(a))\n",
    "#2 (b data is deleted thats why a from start[] and one come from this line getrefcount())"
   ]
  },
  {
   "cell_type": "code",
   "execution_count": 12,
   "id": "0607a8bd",
   "metadata": {},
   "outputs": [],
   "source": [
    "### Garbage Collection  \n",
    "import gc "
   ]
  },
  {
   "cell_type": "code",
   "execution_count": 13,
   "id": "a835549c",
   "metadata": {},
   "outputs": [],
   "source": [
    "#enable garbage collection\n",
    "gc.enable()"
   ]
  },
  {
   "cell_type": "code",
   "execution_count": 14,
   "id": "a95257ab",
   "metadata": {},
   "outputs": [],
   "source": [
    "#diable\n",
    "gc.disable()"
   ]
  },
  {
   "cell_type": "code",
   "execution_count": 15,
   "id": "7f7a043d",
   "metadata": {},
   "outputs": [
    {
     "data": {
      "text/plain": [
       "900"
      ]
     },
     "execution_count": 15,
     "metadata": {},
     "output_type": "execute_result"
    }
   ],
   "source": [
    "#garbage collection \n",
    "gc.collect()"
   ]
  },
  {
   "cell_type": "code",
   "execution_count": 18,
   "id": "ef701aa0",
   "metadata": {},
   "outputs": [
    {
     "name": "stdout",
     "output_type": "stream",
     "text": [
      "[{'collections': 69, 'collected': 1853, 'uncollectable': 0}, {'collections': 6, 'collected': 400, 'uncollectable': 0}, {'collections': 1, 'collected': 900, 'uncollectable': 0}]\n"
     ]
    }
   ],
   "source": [
    "#get garbage collection stats\n",
    "print(gc.get_stats())"
   ]
  },
  {
   "cell_type": "code",
   "execution_count": 19,
   "id": "cc6f8dc0",
   "metadata": {},
   "outputs": [
    {
     "name": "stdout",
     "output_type": "stream",
     "text": [
      "[]\n"
     ]
    }
   ],
   "source": [
    "#get unreachable objects\n",
    "print(gc.garbage)"
   ]
  },
  {
   "cell_type": "code",
   "execution_count": 20,
   "id": "f4b8ff6c",
   "metadata": {},
   "outputs": [
    {
     "name": "stdout",
     "output_type": "stream",
     "text": [
      "Object obj1 created\n",
      "Object obj2 created\n",
      "Object obj1 deleted\n",
      "Object obj2 deleted\n"
     ]
    },
    {
     "data": {
      "text/plain": [
       "4564"
      ]
     },
     "execution_count": 20,
     "metadata": {},
     "output_type": "execute_result"
    }
   ],
   "source": [
    "#memory management best practies\n",
    "import gc\n",
    "class MyObject:\n",
    "    def __init__(self,name):\n",
    "        self.name=name\n",
    "        print(f'Object {self.name} created')\n",
    "\n",
    "    def __del__(self):\n",
    "        print(f\"Object {self.name} deleted\")\n",
    "\n",
    "#create circular reference \n",
    "\n",
    "\n",
    "obj1=MyObject('obj1')\n",
    "obj2=MyObject('obj2')\n",
    "\n",
    "del obj1\n",
    "del obj2\n",
    "\n",
    "##Manually trigger the garbage collection \n",
    "gc.collect()"
   ]
  },
  {
   "cell_type": "code",
   "execution_count": 22,
   "id": "0d9a857f",
   "metadata": {},
   "outputs": [
    {
     "name": "stdout",
     "output_type": "stream",
     "text": [
      "0\n",
      "1\n",
      "2\n",
      "3\n",
      "4\n",
      "5\n",
      "6\n",
      "7\n",
      "8\n",
      "9\n",
      "10\n",
      "11\n"
     ]
    }
   ],
   "source": [
    "## Generators For Memory Efficiency \n",
    "#Generators allow you to produce item one at a time,using memory efficietly by one keeping one item at a time \n",
    "\n",
    "def generator_numbers(n):\n",
    "    for i in range(n):\n",
    "        yield i\n",
    "\n",
    "#using the generator\n",
    "for num in generator_numbers(100000):\n",
    "    print(num)\n",
    "    if num>10:\n",
    "        break"
   ]
  },
  {
   "cell_type": "code",
   "execution_count": 30,
   "id": "997ba71a",
   "metadata": {},
   "outputs": [],
   "source": [
    "## Profiling Memory Usage with tracemalloc\n",
    "\n",
    "import tracemalloc\n",
    "\n",
    "def create_list():\n",
    "    return [i for i in range (1000)]\n",
    "\n",
    "def main():\n",
    "    tracemalloc.start()\n",
    "    create_list()\n",
    "\n",
    "    snapshot= tracemalloc.take_snapshot()\n",
    "    top_stats=snapshot.statistics('lineno')\n",
    "\n",
    "    print('[Top 100]')\n",
    "    for stat in top_stats[::]:\n",
    "        print(stat)"
   ]
  },
  {
   "cell_type": "code",
   "execution_count": 31,
   "id": "d167402c",
   "metadata": {},
   "outputs": [
    {
     "name": "stdout",
     "output_type": "stream",
     "text": [
      "[Top 100]\n",
      "<frozen genericpath>:113: size=74.3 KiB, count=643, average=118 B\n",
      "/opt/anaconda3/envs/ML_env/lib/python3.13/site-packages/pygments/style.py:94: size=47.1 KiB, count=746, average=65 B\n",
      "/opt/anaconda3/envs/ML_env/lib/python3.13/site-packages/pygments/formatters/terminal256.py:44: size=36.1 KiB, count=748, average=49 B\n",
      "/opt/anaconda3/envs/ML_env/lib/python3.13/tracemalloc.py:558: size=36.1 KiB, count=702, average=53 B\n",
      "/opt/anaconda3/envs/ML_env/lib/python3.13/site-packages/pygments/lexer.py:508: size=34.4 KiB, count=440, average=80 B\n",
      "/opt/anaconda3/envs/ML_env/lib/python3.13/site-packages/pygments/token.py:44: size=26.9 KiB, count=408, average=68 B\n",
      "/opt/anaconda3/envs/ML_env/lib/python3.13/site-packages/pygments/lexer.py:591: size=25.4 KiB, count=434, average=60 B\n",
      "/opt/anaconda3/envs/ML_env/lib/python3.13/site-packages/pygments/formatters/terminal256.py:242: size=23.9 KiB, count=206, average=119 B\n",
      "/opt/anaconda3/envs/ML_env/lib/python3.13/site-packages/stack_data/core.py:458: size=18.0 KiB, count=2, average=9240 B\n",
      "/opt/anaconda3/envs/ML_env/lib/python3.13/site-packages/pygments/style.py:95: size=18.0 KiB, count=2, average=9240 B\n",
      "/opt/anaconda3/envs/ML_env/lib/python3.13/tracemalloc.py:67: size=16.9 KiB, count=271, average=64 B\n",
      "/opt/anaconda3/envs/ML_env/lib/python3.13/site-packages/pygments/formatters/terminal256.py:180: size=14.7 KiB, count=170, average=88 B\n",
      "/opt/anaconda3/envs/ML_env/lib/python3.13/ast.py:54: size=14.1 KiB, count=151, average=96 B\n",
      "/opt/anaconda3/envs/ML_env/lib/python3.13/site-packages/pygments/lexer.py:557: size=13.1 KiB, count=135, average=99 B\n",
      "/opt/anaconda3/envs/ML_env/lib/python3.13/site-packages/stack_data/core.py:461: size=12.1 KiB, count=204, average=61 B\n",
      "/opt/anaconda3/envs/ML_env/lib/python3.13/site-packages/pygments/style.py:112: size=10.2 KiB, count=204, average=51 B\n",
      "<string>:1: size=10.1 KiB, count=86, average=120 B\n",
      "/opt/anaconda3/envs/ML_env/lib/python3.13/site-packages/pygments/lexer.py:563: size=9088 B, count=52, average=175 B\n",
      "/opt/anaconda3/envs/ML_env/lib/python3.13/tokenize.py:582: size=9016 B, count=161, average=56 B\n",
      "/opt/anaconda3/envs/ML_env/lib/python3.13/site-packages/pygments/lexer.py:46: size=8784 B, count=27, average=325 B\n",
      "/opt/anaconda3/envs/ML_env/lib/python3.13/site-packages/pygments/lexer.py:537: size=6144 B, count=64, average=96 B\n",
      "/opt/anaconda3/envs/ML_env/lib/python3.13/codeop.py:118: size=5332 B, count=77, average=69 B\n",
      "/opt/anaconda3/envs/ML_env/lib/python3.13/site-packages/pygments/style.py:70: size=5264 B, count=112, average=47 B\n",
      "/opt/anaconda3/envs/ML_env/lib/python3.13/site-packages/traitlets/traitlets.py:731: size=4719 B, count=75, average=63 B\n",
      "/opt/anaconda3/envs/ML_env/lib/python3.13/site-packages/IPython/core/compilerop.py:86: size=4674 B, count=74, average=63 B\n",
      "/opt/anaconda3/envs/ML_env/lib/python3.13/site-packages/pygments/style.py:61: size=4448 B, count=13, average=342 B\n",
      "/opt/anaconda3/envs/ML_env/lib/python3.13/site-packages/zmq/sugar/attrsettr.py:45: size=3948 B, count=84, average=47 B\n",
      "/opt/anaconda3/envs/ML_env/lib/python3.13/json/decoder.py:361: size=3944 B, count=42, average=94 B\n",
      "/opt/anaconda3/envs/ML_env/lib/python3.13/site-packages/pygments/lexer.py:534: size=3584 B, count=64, average=56 B\n",
      "/opt/anaconda3/envs/ML_env/lib/python3.13/site-packages/IPython/core/compilerop.py:174: size=3297 B, count=44, average=75 B\n",
      "/opt/anaconda3/envs/ML_env/lib/python3.13/site-packages/traitlets/traitlets.py:1543: size=3168 B, count=52, average=61 B\n",
      "/opt/anaconda3/envs/ML_env/lib/python3.13/site-packages/pygments/lexer.py:564: size=3088 B, count=60, average=51 B\n",
      "/opt/anaconda3/envs/ML_env/lib/python3.13/site-packages/pygments/lexer.py:532: size=3032 B, count=64, average=47 B\n",
      "/opt/anaconda3/envs/ML_env/lib/python3.13/site-packages/pygments/lexer.py:540: size=3024 B, count=63, average=48 B\n",
      "/opt/anaconda3/envs/ML_env/lib/python3.13/site-packages/pygments/lexer.py:573: size=3008 B, count=43, average=70 B\n",
      "/opt/anaconda3/envs/ML_env/lib/python3.13/site-packages/asttokens/line_numbers.py:47: size=2976 B, count=22, average=135 B\n",
      "/opt/anaconda3/envs/ML_env/lib/python3.13/site-packages/pygments/style.py:96: size=2952 B, count=58, average=51 B\n",
      "/opt/anaconda3/envs/ML_env/lib/python3.13/site-packages/IPython/core/interactiveshell.py:3052: size=2421 B, count=2, average=1210 B\n",
      "/opt/anaconda3/envs/ML_env/lib/python3.13/site-packages/jupyter_client/jsonutil.py:111: size=2350 B, count=47, average=50 B\n",
      "/opt/anaconda3/envs/ML_env/lib/python3.13/site-packages/pygments/regexopt.py:78: size=2296 B, count=41, average=56 B\n",
      "/opt/anaconda3/envs/ML_env/lib/python3.13/site-packages/stack_data/core.py:756: size=2288 B, count=12, average=191 B\n",
      "/opt/anaconda3/envs/ML_env/lib/python3.13/site-packages/pygments/lexer.py:523: size=2256 B, count=47, average=48 B\n",
      "/opt/anaconda3/envs/ML_env/lib/python3.13/site-packages/stack_data/utils.py:170: size=2166 B, count=26, average=83 B\n",
      "/opt/anaconda3/envs/ML_env/lib/python3.13/ast.py:426: size=1936 B, count=37, average=52 B\n",
      "/opt/anaconda3/envs/ML_env/lib/python3.13/site-packages/executing/executing.py:171: size=1912 B, count=26, average=74 B\n",
      "/opt/anaconda3/envs/ML_env/lib/python3.13/dis.py:748: size=1864 B, count=52, average=36 B\n",
      "/opt/anaconda3/envs/ML_env/lib/python3.13/site-packages/IPython/core/history.py:958: size=1650 B, count=7, average=236 B\n",
      "/opt/anaconda3/envs/ML_env/lib/python3.13/site-packages/pygments/formatters/terminal256.py:221: size=1536 B, count=2, average=768 B\n",
      "/opt/anaconda3/envs/ML_env/lib/python3.13/threading.py:297: size=1520 B, count=4, average=380 B\n",
      "<frozen genericpath>:116: size=1512 B, count=27, average=56 B\n",
      "/opt/anaconda3/envs/ML_env/lib/python3.13/site-packages/executing/executing.py:169: size=1456 B, count=7, average=208 B\n",
      "/opt/anaconda3/envs/ML_env/lib/python3.13/site-packages/IPython/core/ultratb.py:650: size=1350 B, count=4, average=338 B\n",
      "/opt/anaconda3/envs/ML_env/lib/python3.13/site-packages/pygments/formatters/terminal256.py:186: size=1344 B, count=21, average=64 B\n",
      "/opt/anaconda3/envs/ML_env/lib/python3.13/site-packages/executing/executing.py:317: size=1344 B, count=6, average=224 B\n",
      "/opt/anaconda3/envs/ML_env/lib/python3.13/site-packages/traitlets/traitlets.py:1514: size=1320 B, count=11, average=120 B\n",
      "/opt/anaconda3/envs/ML_env/lib/python3.13/site-packages/jupyter_client/session.py:1057: size=1280 B, count=11, average=116 B\n",
      "/opt/anaconda3/envs/ML_env/lib/python3.13/site-packages/jupyter_client/session.py:100: size=1243 B, count=8, average=155 B\n",
      "/opt/anaconda3/envs/ML_env/lib/python3.13/site-packages/executing/executing.py:154: size=1139 B, count=16, average=71 B\n",
      "/opt/anaconda3/envs/ML_env/lib/python3.13/contextlib.py:109: size=1064 B, count=11, average=97 B\n",
      "/opt/anaconda3/envs/ML_env/lib/python3.13/site-packages/zmq/sugar/socket.py:805: size=1056 B, count=6, average=176 B\n",
      "/opt/anaconda3/envs/ML_env/lib/python3.13/dis.py:746: size=952 B, count=17, average=56 B\n",
      "/opt/anaconda3/envs/ML_env/lib/python3.13/site-packages/ipykernel/iostream.py:346: size=896 B, count=13, average=69 B\n",
      "/opt/anaconda3/envs/ML_env/lib/python3.13/site-packages/executing/executing.py:223: size=872 B, count=3, average=291 B\n",
      "/opt/anaconda3/envs/ML_env/lib/python3.13/site-packages/IPython/core/history.py:1011: size=816 B, count=8, average=102 B\n",
      "/opt/anaconda3/envs/ML_env/lib/python3.13/site-packages/stack_data/utils.py:156: size=808 B, count=7, average=115 B\n",
      "/opt/anaconda3/envs/ML_env/lib/python3.13/site-packages/stack_data/core.py:587: size=784 B, count=4, average=196 B\n",
      "/opt/anaconda3/envs/ML_env/lib/python3.13/site-packages/IPython/core/interactiveshell.py:3362: size=784 B, count=2, average=392 B\n",
      "/opt/anaconda3/envs/ML_env/lib/python3.13/site-packages/executing/executing.py:287: size=776 B, count=4, average=194 B\n",
      "/opt/anaconda3/envs/ML_env/lib/python3.13/site-packages/ipykernel/iostream.py:684: size=772 B, count=14, average=55 B\n",
      "/opt/anaconda3/envs/ML_env/lib/python3.13/asyncio/events.py:89: size=760 B, count=8, average=95 B\n",
      "/opt/anaconda3/envs/ML_env/lib/python3.13/site-packages/asttokens/line_numbers.py:49: size=728 B, count=2, average=364 B\n",
      "/opt/anaconda3/envs/ML_env/lib/python3.13/threading.py:294: size=688 B, count=6, average=115 B\n",
      "/opt/anaconda3/envs/ML_env/lib/python3.13/site-packages/pygments/__init__.py:65: size=688 B, count=6, average=115 B\n",
      "/opt/anaconda3/envs/ML_env/lib/python3.13/site-packages/IPython/core/interactiveshell.py:3607: size=664 B, count=2, average=332 B\n",
      "/opt/anaconda3/envs/ML_env/lib/python3.13/site-packages/stack_data/core.py:153: size=624 B, count=13, average=48 B\n",
      "/opt/anaconda3/envs/ML_env/lib/python3.13/site-packages/pygments/regexopt.py:77: size=616 B, count=11, average=56 B\n",
      "/opt/anaconda3/envs/ML_env/lib/python3.13/site-packages/ipykernel/ipkernel.py:362: size=608 B, count=2, average=304 B\n",
      "/opt/anaconda3/envs/ML_env/lib/python3.13/site-packages/executing/executing.py:332: size=600 B, count=2, average=300 B\n",
      "/opt/anaconda3/envs/ML_env/lib/python3.13/site-packages/asttokens/asttokens.py:43: size=600 B, count=2, average=300 B\n",
      "/opt/anaconda3/envs/ML_env/lib/python3.13/site-packages/ipykernel/compiler.py:91: size=594 B, count=5, average=119 B\n",
      "/opt/anaconda3/envs/ML_env/lib/python3.13/dis.py:749: size=576 B, count=18, average=32 B\n",
      "/opt/anaconda3/envs/ML_env/lib/python3.13/site-packages/ipykernel/zmqshell.py:549: size=576 B, count=6, average=96 B\n",
      "/opt/anaconda3/envs/ML_env/lib/python3.13/site-packages/asttokens/line_numbers.py:48: size=576 B, count=2, average=288 B\n",
      "/opt/anaconda3/envs/ML_env/lib/python3.13/site-packages/asttokens/line_numbers.py:32: size=570 B, count=11, average=52 B\n",
      "/opt/anaconda3/envs/ML_env/lib/python3.13/site-packages/ipykernel/iostream.py:276: size=568 B, count=5, average=114 B\n",
      "/opt/anaconda3/envs/ML_env/lib/python3.13/site-packages/IPython/core/interactiveshell.py:3127: size=536 B, count=4, average=134 B\n",
      "/opt/anaconda3/envs/ML_env/lib/python3.13/site-packages/IPython/core/ultratb.py:807: size=536 B, count=2, average=268 B\n",
      "/opt/anaconda3/envs/ML_env/lib/python3.13/site-packages/IPython/core/interactiveshell.py:3667: size=504 B, count=3, average=168 B\n",
      "/opt/anaconda3/envs/ML_env/lib/python3.13/site-packages/executing/_position_node_finder.py:75: size=496 B, count=4, average=124 B\n",
      "/opt/anaconda3/envs/ML_env/lib/python3.13/site-packages/ipykernel/ipkernel.py:449: size=496 B, count=3, average=165 B\n",
      "/opt/anaconda3/envs/ML_env/lib/python3.13/site-packages/ipykernel/kernelbase.py:534: size=496 B, count=2, average=248 B\n",
      "/opt/anaconda3/envs/ML_env/lib/python3.13/site-packages/pygments/style.py:92: size=456 B, count=7, average=65 B\n",
      "/opt/anaconda3/envs/ML_env/lib/python3.13/site-packages/executing/_position_node_finder.py:117: size=448 B, count=4, average=112 B\n",
      "/opt/anaconda3/envs/ML_env/lib/python3.13/site-packages/IPython/core/interactiveshell.py:3025: size=448 B, count=4, average=112 B\n",
      "/opt/anaconda3/envs/ML_env/lib/python3.13/site-packages/ipykernel/kernelbase.py:775: size=432 B, count=2, average=216 B\n",
      "/opt/anaconda3/envs/ML_env/lib/python3.13/site-packages/executing/executing.py:316: size=432 B, count=2, average=216 B\n",
      "/opt/anaconda3/envs/ML_env/lib/python3.13/site-packages/executing/executing.py:278: size=432 B, count=2, average=216 B\n",
      "/var/folders/99/78r6hmg151n8d6jkcg8_br4h0000gn/T/ipykernel_18824/1503398914.py:13: size=431 B, count=4, average=108 B\n",
      "/opt/anaconda3/envs/ML_env/lib/python3.13/site-packages/stack_data/core.py:819: size=424 B, count=11, average=39 B\n",
      "/opt/anaconda3/envs/ML_env/lib/python3.13/site-packages/jupyter_client/jsonutil.py:75: size=416 B, count=2, average=208 B\n",
      "/opt/anaconda3/envs/ML_env/lib/python3.13/site-packages/IPython/core/ultratb.py:804: size=416 B, count=2, average=208 B\n",
      "/opt/anaconda3/envs/ML_env/lib/python3.13/asyncio/base_events.py:459: size=408 B, count=3, average=136 B\n",
      "/opt/anaconda3/envs/ML_env/lib/python3.13/site-packages/tornado/platform/asyncio.py:235: size=400 B, count=6, average=67 B\n",
      "/opt/anaconda3/envs/ML_env/lib/python3.13/asyncio/base_events.py:853: size=384 B, count=4, average=96 B\n",
      "/opt/anaconda3/envs/ML_env/lib/python3.13/site-packages/executing/executing.py:153: size=378 B, count=1, average=378 B\n",
      "/opt/anaconda3/envs/ML_env/lib/python3.13/threading.py:139: size=368 B, count=4, average=92 B\n",
      "/opt/anaconda3/envs/ML_env/lib/python3.13/dis.py:200: size=364 B, count=4, average=91 B\n",
      "/opt/anaconda3/envs/ML_env/lib/python3.13/asyncio/futures.py:415: size=360 B, count=9, average=40 B\n",
      "/opt/anaconda3/envs/ML_env/lib/python3.13/site-packages/IPython/core/interactiveshell.py:3047: size=360 B, count=2, average=180 B\n",
      "/opt/anaconda3/envs/ML_env/lib/python3.13/site-packages/ipykernel/kernelbase.py:778: size=360 B, count=1, average=360 B\n",
      "/opt/anaconda3/envs/ML_env/lib/python3.13/site-packages/IPython/core/interactiveshell.py:3153: size=336 B, count=1, average=336 B\n",
      "/opt/anaconda3/envs/ML_env/lib/python3.13/tracemalloc.py:560: size=328 B, count=1, average=328 B\n",
      "/opt/anaconda3/envs/ML_env/lib/python3.13/tracemalloc.py:423: size=328 B, count=1, average=328 B\n",
      "/opt/anaconda3/envs/ML_env/lib/python3.13/asyncio/futures.py:391: size=320 B, count=2, average=160 B\n",
      "/opt/anaconda3/envs/ML_env/lib/python3.13/asyncio/futures.py:378: size=320 B, count=2, average=160 B\n",
      "/opt/anaconda3/envs/ML_env/lib/python3.13/site-packages/IPython/core/history.py:982: size=315 B, count=7, average=45 B\n",
      "/opt/anaconda3/envs/ML_env/lib/python3.13/site-packages/stack_data/utils.py:155: size=304 B, count=7, average=43 B\n",
      "/opt/anaconda3/envs/ML_env/lib/python3.13/site-packages/executing/executing.py:285: size=288 B, count=1, average=288 B\n",
      "/opt/anaconda3/envs/ML_env/lib/python3.13/site-packages/executing/executing.py:268: size=288 B, count=1, average=288 B\n",
      "/opt/anaconda3/envs/ML_env/lib/python3.13/site-packages/IPython/core/interactiveshell.py:3098: size=280 B, count=1, average=280 B\n",
      "/opt/anaconda3/envs/ML_env/lib/python3.13/dis.py:659: size=278 B, count=6, average=46 B\n",
      "/opt/anaconda3/envs/ML_env/lib/python3.13/site-packages/stack_data/core.py:101: size=272 B, count=4, average=68 B\n",
      "/opt/anaconda3/envs/ML_env/lib/python3.13/site-packages/ipykernel/iostream.py:527: size=272 B, count=4, average=68 B\n",
      "/opt/anaconda3/envs/ML_env/lib/python3.13/site-packages/tornado/queues.py:248: size=272 B, count=2, average=136 B\n",
      "/opt/anaconda3/envs/ML_env/lib/python3.13/site-packages/jupyter_client/session.py:670: size=272 B, count=2, average=136 B\n",
      "/opt/anaconda3/envs/ML_env/lib/python3.13/site-packages/jupyter_client/session.py:278: size=272 B, count=2, average=136 B\n",
      "/opt/anaconda3/envs/ML_env/lib/python3.13/site-packages/stack_data/core.py:684: size=264 B, count=7, average=38 B\n",
      "/opt/anaconda3/envs/ML_env/lib/python3.13/logging/__init__.py:1602: size=264 B, count=1, average=264 B\n",
      "/opt/anaconda3/envs/ML_env/lib/python3.13/site-packages/ipykernel/kernelbase.py:435: size=248 B, count=1, average=248 B\n",
      "/opt/anaconda3/envs/ML_env/lib/python3.13/site-packages/ipykernel/iostream.py:121: size=248 B, count=1, average=248 B\n",
      "/opt/anaconda3/envs/ML_env/lib/python3.13/site-packages/pygments/lexer.py:662: size=240 B, count=2, average=120 B\n",
      "/opt/anaconda3/envs/ML_env/lib/python3.13/site-packages/ipykernel/kernelbase.py:318: size=240 B, count=2, average=120 B\n",
      "/opt/anaconda3/envs/ML_env/lib/python3.13/inspect.py:266: size=240 B, count=2, average=120 B\n",
      "/opt/anaconda3/envs/ML_env/lib/python3.13/site-packages/zmq/sugar/socket.py:802: size=232 B, count=2, average=116 B\n",
      "/opt/anaconda3/envs/ML_env/lib/python3.13/site-packages/ipykernel/kernelbase.py:545: size=232 B, count=1, average=232 B\n",
      "/opt/anaconda3/envs/ML_env/lib/python3.13/site-packages/stack_data/core.py:828: size=224 B, count=4, average=56 B\n",
      "/opt/anaconda3/envs/ML_env/lib/python3.13/site-packages/stack_data/core.py:740: size=224 B, count=4, average=56 B\n",
      "/opt/anaconda3/envs/ML_env/lib/python3.13/site-packages/stack_data/core.py:615: size=224 B, count=4, average=56 B\n",
      "/var/folders/99/78r6hmg151n8d6jkcg8_br4h0000gn/T/ipykernel_18824/451043146.py:1: size=224 B, count=2, average=112 B\n",
      "/opt/anaconda3/envs/ML_env/lib/python3.13/site-packages/IPython/core/interactiveshell.py:3246: size=224 B, count=2, average=112 B\n",
      "/opt/anaconda3/envs/ML_env/lib/python3.13/json/encoder.py:252: size=224 B, count=2, average=112 B\n",
      "/opt/anaconda3/envs/ML_env/lib/python3.13/contextlib.py:305: size=224 B, count=2, average=112 B\n",
      "/opt/anaconda3/envs/ML_env/lib/python3.13/site-packages/pygments/style.py:90: size=216 B, count=3, average=72 B\n",
      "/opt/anaconda3/envs/ML_env/lib/python3.13/site-packages/ipykernel/iostream.py:287: size=216 B, count=3, average=72 B\n",
      "/opt/anaconda3/envs/ML_env/lib/python3.13/site-packages/zmq/eventloop/zmqstream.py:468: size=216 B, count=2, average=108 B\n",
      "/opt/anaconda3/envs/ML_env/lib/python3.13/site-packages/ipykernel/kernelbase.py:324: size=216 B, count=2, average=108 B\n",
      "/opt/anaconda3/envs/ML_env/lib/python3.13/site-packages/IPython/core/async_helpers.py:128: size=216 B, count=1, average=216 B\n",
      "/opt/anaconda3/envs/ML_env/lib/python3.13/site-packages/IPython/core/interactiveshell.py:3418: size=208 B, count=2, average=104 B\n",
      "/opt/anaconda3/envs/ML_env/lib/python3.13/concurrent/futures/_base.py:330: size=208 B, count=2, average=104 B\n",
      "/opt/anaconda3/envs/ML_env/lib/python3.13/site-packages/jupyter_client/session.py:1085: size=208 B, count=1, average=208 B\n",
      "/opt/anaconda3/envs/ML_env/lib/python3.13/site-packages/ipykernel/kernelbase.py:770: size=208 B, count=1, average=208 B\n",
      "/opt/anaconda3/envs/ML_env/lib/python3.13/site-packages/ipykernel/ipkernel.py:480: size=208 B, count=1, average=208 B\n",
      "/opt/anaconda3/envs/ML_env/lib/python3.13/site-packages/jupyter_client/session.py:688: size=194 B, count=2, average=97 B\n",
      "/opt/anaconda3/envs/ML_env/lib/python3.13/site-packages/stack_data/core.py:616: size=192 B, count=4, average=48 B\n",
      "/opt/anaconda3/envs/ML_env/lib/python3.13/site-packages/pygments/lexer.py:654: size=192 B, count=3, average=64 B\n",
      "/opt/anaconda3/envs/ML_env/lib/python3.13/site-packages/pygments/lexer.py:596: size=192 B, count=3, average=64 B\n",
      "/opt/anaconda3/envs/ML_env/lib/python3.13/site-packages/jupyter_client/jsonutil.py:73: size=192 B, count=3, average=64 B\n",
      "/opt/anaconda3/envs/ML_env/lib/python3.13/site-packages/IPython/core/interactiveshell.py:3605: size=192 B, count=3, average=64 B\n",
      "/opt/anaconda3/envs/ML_env/lib/python3.13/site-packages/jupyter_client/session.py:750: size=192 B, count=2, average=96 B\n",
      "/opt/anaconda3/envs/ML_env/lib/python3.13/site-packages/IPython/core/interactiveshell.py:3247: size=192 B, count=2, average=96 B\n",
      "/opt/anaconda3/envs/ML_env/lib/python3.13/site-packages/pygments/style.py:74: size=188 B, count=4, average=47 B\n",
      "/opt/anaconda3/envs/ML_env/lib/python3.13/dis.py:566: size=187 B, count=3, average=62 B\n",
      "/opt/anaconda3/envs/ML_env/lib/python3.13/site-packages/IPython/core/interactiveshell.py:3599: size=184 B, count=4, average=46 B\n",
      "/opt/anaconda3/envs/ML_env/lib/python3.13/site-packages/pygments/formatters/terminal256.py:136: size=184 B, count=2, average=92 B\n",
      "/opt/anaconda3/envs/ML_env/lib/python3.13/site-packages/IPython/core/interactiveshell.py:3050: size=176 B, count=4, average=44 B\n",
      "/opt/anaconda3/envs/ML_env/lib/python3.13/site-packages/executing/executing.py:212: size=176 B, count=1, average=176 B\n",
      "/opt/anaconda3/envs/ML_env/lib/python3.13/site-packages/ipykernel/kernelbase.py:1182: size=173 B, count=2, average=86 B\n",
      "/opt/anaconda3/envs/ML_env/lib/python3.13/dis.py:562: size=165 B, count=3, average=55 B\n",
      "/opt/anaconda3/envs/ML_env/lib/python3.13/site-packages/stack_data/core.py:824: size=160 B, count=4, average=40 B\n",
      "/opt/anaconda3/envs/ML_env/lib/python3.13/site-packages/stack_data/core.py:763: size=160 B, count=4, average=40 B\n",
      "/var/folders/99/78r6hmg151n8d6jkcg8_br4h0000gn/T/ipykernel_18824/3174713746.py:8: size=160 B, count=1, average=160 B\n",
      "/var/folders/99/78r6hmg151n8d6jkcg8_br4h0000gn/T/ipykernel_18824/3174713746.py:5: size=160 B, count=1, average=160 B\n",
      "/opt/anaconda3/envs/ML_env/lib/python3.13/site-packages/ipykernel/kernelbase.py:570: size=160 B, count=1, average=160 B\n",
      "/opt/anaconda3/envs/ML_env/lib/python3.13/site-packages/executing/executing.py:451: size=160 B, count=1, average=160 B\n",
      "/opt/anaconda3/envs/ML_env/lib/python3.13/site-packages/IPython/core/interactiveshell.py:3583: size=160 B, count=1, average=160 B\n",
      "/opt/anaconda3/envs/ML_env/lib/python3.13/site-packages/IPython/core/interactiveshell.py:3260: size=160 B, count=1, average=160 B\n",
      "/opt/anaconda3/envs/ML_env/lib/python3.13/site-packages/IPython/core/interactiveshell.py:2157: size=160 B, count=1, average=160 B\n",
      "/opt/anaconda3/envs/ML_env/lib/python3.13/asyncio/futures.py:384: size=160 B, count=1, average=160 B\n",
      "/opt/anaconda3/envs/ML_env/lib/python3.13/threading.py:296: size=144 B, count=2, average=72 B\n",
      "/opt/anaconda3/envs/ML_env/lib/python3.13/threading.py:292: size=144 B, count=2, average=72 B\n",
      "/opt/anaconda3/envs/ML_env/lib/python3.13/threading.py:287: size=144 B, count=2, average=72 B\n",
      "/opt/anaconda3/envs/ML_env/lib/python3.13/threading.py:286: size=144 B, count=2, average=72 B\n",
      "/opt/anaconda3/envs/ML_env/lib/python3.13/site-packages/ipykernel/iostream.py:722: size=144 B, count=2, average=72 B\n",
      "/opt/anaconda3/envs/ML_env/lib/python3.13/site-packages/executing/executing.py:156: size=144 B, count=2, average=72 B\n",
      "/opt/anaconda3/envs/ML_env/lib/python3.13/site-packages/IPython/core/compilerop.py:171: size=144 B, count=2, average=72 B\n",
      "/opt/anaconda3/envs/ML_env/lib/python3.13/site-packages/stack_data/utils.py:145: size=128 B, count=2, average=64 B\n",
      "/opt/anaconda3/envs/ML_env/lib/python3.13/site-packages/IPython/core/ultratb.py:908: size=128 B, count=2, average=64 B\n",
      "/opt/anaconda3/envs/ML_env/lib/python3.13/site-packages/IPython/core/interactiveshell.py:3096: size=128 B, count=2, average=64 B\n",
      "/opt/anaconda3/envs/ML_env/lib/python3.13/site-packages/IPython/core/interactiveshell.py:3048: size=128 B, count=2, average=64 B\n",
      "/opt/anaconda3/envs/ML_env/lib/python3.13/re/__init__.py:339: size=128 B, count=2, average=64 B\n",
      "/opt/anaconda3/envs/ML_env/lib/python3.13/site-packages/traitlets/traitlets.py:1540: size=120 B, count=2, average=60 B\n",
      "/opt/anaconda3/envs/ML_env/lib/python3.13/site-packages/jupyter_client/session.py:672: size=120 B, count=1, average=120 B\n",
      "/opt/anaconda3/envs/ML_env/lib/python3.13/asyncio/base_events.py:816: size=120 B, count=1, average=120 B\n",
      "/opt/anaconda3/envs/ML_env/lib/python3.13/site-packages/IPython/core/interactiveshell.py:3442: size=114 B, count=2, average=57 B\n",
      "/opt/anaconda3/envs/ML_env/lib/python3.13/site-packages/zmq/sugar/poll.py:50: size=112 B, count=2, average=56 B\n",
      "/opt/anaconda3/envs/ML_env/lib/python3.13/site-packages/pygments/regexopt.py:63: size=112 B, count=2, average=56 B\n",
      "/opt/anaconda3/envs/ML_env/lib/python3.13/site-packages/pygments/regexopt.py:39: size=112 B, count=2, average=56 B\n",
      "/opt/anaconda3/envs/ML_env/lib/python3.13/site-packages/pygments/formatters/terminal256.py:138: size=112 B, count=2, average=56 B\n",
      "/opt/anaconda3/envs/ML_env/lib/python3.13/site-packages/jupyter_client/session.py:738: size=112 B, count=2, average=56 B\n",
      "/opt/anaconda3/envs/ML_env/lib/python3.13/site-packages/IPython/core/ultratb.py:875: size=112 B, count=2, average=56 B\n",
      "/opt/anaconda3/envs/ML_env/lib/python3.13/site-packages/IPython/core/async_helpers.py:150: size=112 B, count=2, average=56 B\n",
      "/opt/anaconda3/envs/ML_env/lib/python3.13/concurrent/futures/_base.py:335: size=112 B, count=2, average=56 B\n",
      "/opt/anaconda3/envs/ML_env/lib/python3.13/concurrent/futures/_base.py:334: size=112 B, count=2, average=56 B\n",
      "/opt/anaconda3/envs/ML_env/lib/python3.13/site-packages/jupyter_client/session.py:989: size=111 B, count=2, average=56 B\n",
      "/opt/anaconda3/envs/ML_env/lib/python3.13/json/__init__.py:234: size=104 B, count=1, average=104 B\n",
      "/opt/anaconda3/envs/ML_env/lib/python3.13/inspect.py:2100: size=104 B, count=1, average=104 B\n",
      "/opt/anaconda3/envs/ML_env/lib/python3.13/ast.py:449: size=100 B, count=2, average=50 B\n",
      "<frozen posixpath>:385: size=97 B, count=1, average=97 B\n",
      "/opt/anaconda3/envs/ML_env/lib/python3.13/site-packages/jupyter_client/session.py:200: size=96 B, count=2, average=48 B\n",
      "/opt/anaconda3/envs/ML_env/lib/python3.13/site-packages/dateutil/parser/isoparser.py:146: size=96 B, count=2, average=48 B\n",
      "/opt/anaconda3/envs/ML_env/lib/python3.13/site-packages/IPython/core/interactiveshell.py:3465: size=96 B, count=2, average=48 B\n",
      "/opt/anaconda3/envs/ML_env/lib/python3.13/site-packages/IPython/core/interactiveshell.py:3027: size=96 B, count=2, average=48 B\n",
      "/opt/anaconda3/envs/ML_env/lib/python3.13/site-packages/IPython/core/history.py:969: size=96 B, count=2, average=48 B\n",
      "/opt/anaconda3/envs/ML_env/lib/python3.13/selectors.py:548: size=96 B, count=1, average=96 B\n",
      "/opt/anaconda3/envs/ML_env/lib/python3.13/inspect.py:2109: size=96 B, count=1, average=96 B\n",
      "/opt/anaconda3/envs/ML_env/lib/python3.13/dis.py:577: size=92 B, count=2, average=46 B\n",
      "/opt/anaconda3/envs/ML_env/lib/python3.13/site-packages/jupyter_client/session.py:996: size=88 B, count=2, average=44 B\n",
      "/opt/anaconda3/envs/ML_env/lib/python3.13/site-packages/IPython/core/interactiveshell.py:3593: size=88 B, count=2, average=44 B\n",
      "/opt/anaconda3/envs/ML_env/lib/python3.13/inspect.py:2503: size=88 B, count=1, average=88 B\n",
      "/opt/anaconda3/envs/ML_env/lib/python3.13/site-packages/jupyter_client/session.py:604: size=85 B, count=1, average=85 B\n",
      "/opt/anaconda3/envs/ML_env/lib/python3.13/site-packages/IPython/core/compilerop.py:172: size=84 B, count=3, average=28 B\n",
      "/opt/anaconda3/envs/ML_env/lib/python3.13/site-packages/ipykernel/kernelbase.py:391: size=80 B, count=2, average=40 B\n",
      "/opt/anaconda3/envs/ML_env/lib/python3.13/site-packages/ipykernel/kernelbase.py:327: size=80 B, count=2, average=40 B\n",
      "/opt/anaconda3/envs/ML_env/lib/python3.13/asyncio/base_events.py:2024: size=80 B, count=2, average=40 B\n",
      "/opt/anaconda3/envs/ML_env/lib/python3.13/site-packages/IPython/core/history.py:1013: size=72 B, count=1, average=72 B\n",
      "/opt/anaconda3/envs/ML_env/lib/python3.13/site-packages/tornado/queues.py:318: size=64 B, count=2, average=32 B\n",
      "/opt/anaconda3/envs/ML_env/lib/python3.13/site-packages/executing/executing.py:258: size=64 B, count=2, average=32 B\n",
      "/opt/anaconda3/envs/ML_env/lib/python3.13/site-packages/IPython/core/interactiveshell.py:3575: size=64 B, count=2, average=32 B\n",
      "/opt/anaconda3/envs/ML_env/lib/python3.13/concurrent/futures/_base.py:421: size=64 B, count=2, average=32 B\n",
      "/opt/anaconda3/envs/ML_env/lib/python3.13/threading.py:656: size=64 B, count=1, average=64 B\n",
      "/opt/anaconda3/envs/ML_env/lib/python3.13/site-packages/zmq/sugar/socket.py:806: size=64 B, count=1, average=64 B\n",
      "/opt/anaconda3/envs/ML_env/lib/python3.13/site-packages/pygments/formatters/terminal256.py:140: size=64 B, count=1, average=64 B\n",
      "/opt/anaconda3/envs/ML_env/lib/python3.13/site-packages/pygments/formatters/terminal256.py:139: size=64 B, count=1, average=64 B\n",
      "/opt/anaconda3/envs/ML_env/lib/python3.13/site-packages/jupyter_client/session.py:1053: size=64 B, count=1, average=64 B\n",
      "/opt/anaconda3/envs/ML_env/lib/python3.13/site-packages/jupyter_client/session.py:663: size=64 B, count=1, average=64 B\n",
      "/opt/anaconda3/envs/ML_env/lib/python3.13/site-packages/ipykernel/kernelbase.py:761: size=64 B, count=1, average=64 B\n",
      "/opt/anaconda3/envs/ML_env/lib/python3.13/site-packages/ipykernel/kernelbase.py:721: size=64 B, count=1, average=64 B\n",
      "/opt/anaconda3/envs/ML_env/lib/python3.13/site-packages/ipykernel/kernelbase.py:69: size=64 B, count=1, average=64 B\n",
      "/opt/anaconda3/envs/ML_env/lib/python3.13/site-packages/ipykernel/ipkernel.py:476: size=64 B, count=1, average=64 B\n",
      "/opt/anaconda3/envs/ML_env/lib/python3.13/site-packages/ipykernel/ipkernel.py:384: size=64 B, count=1, average=64 B\n",
      "/opt/anaconda3/envs/ML_env/lib/python3.13/site-packages/ipykernel/ipkernel.py:383: size=64 B, count=1, average=64 B\n",
      "/opt/anaconda3/envs/ML_env/lib/python3.13/site-packages/ipykernel/ipkernel.py:381: size=64 B, count=1, average=64 B\n",
      "/opt/anaconda3/envs/ML_env/lib/python3.13/site-packages/ipykernel/ipkernel.py:294: size=64 B, count=1, average=64 B\n",
      "/opt/anaconda3/envs/ML_env/lib/python3.13/site-packages/ipykernel/ipkernel.py:291: size=64 B, count=1, average=64 B\n",
      "/opt/anaconda3/envs/ML_env/lib/python3.13/site-packages/executing/executing.py:441: size=64 B, count=1, average=64 B\n",
      "/opt/anaconda3/envs/ML_env/lib/python3.13/site-packages/asttokens/line_numbers.py:35: size=64 B, count=1, average=64 B\n",
      "/opt/anaconda3/envs/ML_env/lib/python3.13/site-packages/IPython/core/interactiveshell.py:3656: size=64 B, count=1, average=64 B\n",
      "/opt/anaconda3/envs/ML_env/lib/python3.13/site-packages/IPython/core/interactiveshell.py:3331: size=64 B, count=1, average=64 B\n",
      "/opt/anaconda3/envs/ML_env/lib/python3.13/site-packages/IPython/core/interactiveshell.py:3328: size=64 B, count=1, average=64 B\n",
      "/opt/anaconda3/envs/ML_env/lib/python3.13/inspect.py:1309: size=64 B, count=1, average=64 B\n",
      "/opt/anaconda3/envs/ML_env/lib/python3.13/threading.py:352: size=56 B, count=1, average=56 B\n",
      "/opt/anaconda3/envs/ML_env/lib/python3.13/site-packages/traitlets/traitlets.py:1534: size=56 B, count=1, average=56 B\n",
      "/opt/anaconda3/envs/ML_env/lib/python3.13/site-packages/pygments/regexopt.py:66: size=56 B, count=1, average=56 B\n",
      "/opt/anaconda3/envs/ML_env/lib/python3.13/site-packages/jupyter_client/session.py:1088: size=56 B, count=1, average=56 B\n",
      "/opt/anaconda3/envs/ML_env/lib/python3.13/site-packages/IPython/core/payload.py:54: size=56 B, count=1, average=56 B\n",
      "/opt/anaconda3/envs/ML_env/lib/python3.13/site-packages/IPython/core/interactiveshell.py:3588: size=56 B, count=1, average=56 B\n",
      "/opt/anaconda3/envs/ML_env/lib/python3.13/site-packages/IPython/core/interactiveshell.py:3573: size=56 B, count=1, average=56 B\n",
      "/opt/anaconda3/envs/ML_env/lib/python3.13/site-packages/IPython/core/history.py:1058: size=56 B, count=1, average=56 B\n",
      "/opt/anaconda3/envs/ML_env/lib/python3.13/site-packages/IPython/core/history.py:1047: size=56 B, count=1, average=56 B\n",
      "/opt/anaconda3/envs/ML_env/lib/python3.13/selectors.py:546: size=56 B, count=1, average=56 B\n",
      "/opt/anaconda3/envs/ML_env/lib/python3.13/textwrap.py:466: size=50 B, count=1, average=50 B\n",
      "/opt/anaconda3/envs/ML_env/lib/python3.13/site-packages/ipykernel/ipkernel.py:470: size=50 B, count=1, average=50 B\n",
      "/var/folders/99/78r6hmg151n8d6jkcg8_br4h0000gn/T/ipykernel_18824/1582145563.py:17: size=48 B, count=1, average=48 B\n",
      "/opt/anaconda3/envs/ML_env/lib/python3.13/site-packages/tornado/concurrent.py:193: size=48 B, count=1, average=48 B\n",
      "/opt/anaconda3/envs/ML_env/lib/python3.13/site-packages/stack_data/core.py:455: size=48 B, count=1, average=48 B\n",
      "/opt/anaconda3/envs/ML_env/lib/python3.13/site-packages/IPython/core/interactiveshell.py:3595: size=48 B, count=1, average=48 B\n",
      "/opt/anaconda3/envs/ML_env/lib/python3.13/enum.py:1601: size=48 B, count=1, average=48 B\n",
      "/opt/anaconda3/envs/ML_env/lib/python3.13/site-packages/IPython/core/prefilter.py:317: size=47 B, count=1, average=47 B\n",
      "/opt/anaconda3/envs/ML_env/lib/python3.13/site-packages/IPython/core/interactiveshell.py:3689: size=40 B, count=1, average=40 B\n",
      "/opt/anaconda3/envs/ML_env/lib/python3.13/site-packages/IPython/core/interactiveshell.py:3381: size=40 B, count=1, average=40 B\n",
      "/opt/anaconda3/envs/ML_env/lib/python3.13/site-packages/jupyter_client/session.py:603: size=32 B, count=1, average=32 B\n",
      "/opt/anaconda3/envs/ML_env/lib/python3.13/site-packages/ipykernel/iostream.py:637: size=32 B, count=1, average=32 B\n",
      "/opt/anaconda3/envs/ML_env/lib/python3.13/site-packages/IPython/core/compilerop.py:192: size=32 B, count=1, average=32 B\n",
      "/opt/anaconda3/envs/ML_env/lib/python3.13/queue.py:177: size=32 B, count=1, average=32 B\n",
      "/opt/anaconda3/envs/ML_env/lib/python3.13/asyncio/base_events.py:819: size=32 B, count=1, average=32 B\n",
      "/opt/anaconda3/envs/ML_env/lib/python3.13/site-packages/ipykernel/kernelbase.py:560: size=28 B, count=1, average=28 B\n",
      "/opt/anaconda3/envs/ML_env/lib/python3.13/site-packages/asttokens/line_numbers.py:34: size=28 B, count=1, average=28 B\n"
     ]
    }
   ],
   "source": [
    "main()"
   ]
  },
  {
   "cell_type": "code",
   "execution_count": null,
   "id": "baeceb16",
   "metadata": {},
   "outputs": [],
   "source": []
  }
 ],
 "metadata": {
  "kernelspec": {
   "display_name": "ML_env",
   "language": "python",
   "name": "python3"
  },
  "language_info": {
   "codemirror_mode": {
    "name": "ipython",
    "version": 3
   },
   "file_extension": ".py",
   "mimetype": "text/x-python",
   "name": "python",
   "nbconvert_exporter": "python",
   "pygments_lexer": "ipython3",
   "version": "3.13.2"
  }
 },
 "nbformat": 4,
 "nbformat_minor": 5
}
